{
 "cells": [
  {
   "cell_type": "markdown",
   "metadata": {},
   "source": [
    "# Rotten Tomatoes movie review - Weekly Project"
   ]
  },
  {
   "cell_type": "markdown",
   "metadata": {},
   "source": [
    "https://www.kaggle.com/c/sentiment-analysis-on-movie-reviews"
   ]
  },
  {
   "cell_type": "markdown",
   "metadata": {},
   "source": [
    "The Rotten Tomatoes movie review dataset is a corpus of movie reviews used for sentiment analysis\n",
    "\n",
    "This competition presents a chance to benchmark your sentiment-analysis ideas on the Rotten Tomatoes dataset. You are asked to label phrases on a scale of five values: \n",
    "- negative\n",
    "- somewhat negative\n",
    "- neutral\n",
    "- somewhat positive\n",
    "- positive. \n",
    "\n",
    "Obstacles like sentence negation, sarcasm, terseness, language ambiguity, and many others make this task very challenging."
   ]
  },
  {
   "cell_type": "code",
   "execution_count": 253,
   "metadata": {},
   "outputs": [],
   "source": [
    "import pickle\n",
    "import os\n",
    "import numpy as np\n",
    "import pandas as pd\n",
    "import matplotlib.pyplot as plt\n",
    "import seaborn as sns\n",
    "import re \n",
    "import nltk\n",
    "import unicodedata\n"
   ]
  },
  {
   "cell_type": "code",
   "execution_count": 254,
   "metadata": {},
   "outputs": [],
   "source": [
    "from bs4 import BeautifulSoup\n",
    "\n",
    "from collections import Counter\n",
    "from matplotlib import pyplot\n",
    "from numpy import where\n",
    "\n",
    "from nltk.corpus import stopwords\n",
    "from nltk.stem import PorterStemmer\n",
    "from nltk.stem.wordnet import WordNetLemmatizer\n",
    "from nltk.tokenize import word_tokenize\n",
    "\n",
    "# nltk.download('stopwords')\n",
    "# nltk.download('wordnet')\n",
    "# nltk.download('punkt')\n",
    "\n",
    "from sklearn.model_selection import train_test_split\n",
    "from sklearn.pipeline import Pipeline\n",
    "from sklearn.linear_model import LogisticRegression\n",
    "from sklearn.feature_extraction.text import TfidfVectorizer\n",
    "from sklearn.feature_extraction.text import CountVectorizer\n",
    "from sklearn.metrics import accuracy_score, confusion_matrix, classification_report"
   ]
  },
  {
   "cell_type": "code",
   "execution_count": 255,
   "metadata": {},
   "outputs": [],
   "source": [
    "df = pd.read_csv('train.csv')"
   ]
  },
  {
   "cell_type": "code",
   "execution_count": 256,
   "metadata": {},
   "outputs": [
    {
     "data": {
      "text/html": [
       "<div>\n",
       "<style scoped>\n",
       "    .dataframe tbody tr th:only-of-type {\n",
       "        vertical-align: middle;\n",
       "    }\n",
       "\n",
       "    .dataframe tbody tr th {\n",
       "        vertical-align: top;\n",
       "    }\n",
       "\n",
       "    .dataframe thead th {\n",
       "        text-align: right;\n",
       "    }\n",
       "</style>\n",
       "<table border=\"1\" class=\"dataframe\">\n",
       "  <thead>\n",
       "    <tr style=\"text-align: right;\">\n",
       "      <th></th>\n",
       "      <th>Unnamed: 0</th>\n",
       "      <th>PhraseId</th>\n",
       "      <th>SentenceId</th>\n",
       "      <th>Phrase</th>\n",
       "      <th>Sentiment</th>\n",
       "    </tr>\n",
       "  </thead>\n",
       "  <tbody>\n",
       "    <tr>\n",
       "      <th>0</th>\n",
       "      <td>0</td>\n",
       "      <td>122</td>\n",
       "      <td>4</td>\n",
       "      <td>positively</td>\n",
       "      <td>3</td>\n",
       "    </tr>\n",
       "    <tr>\n",
       "      <th>1</th>\n",
       "      <td>1</td>\n",
       "      <td>19366</td>\n",
       "      <td>851</td>\n",
       "      <td>disguise the slack complacency of -LRB- Godard...</td>\n",
       "      <td>1</td>\n",
       "    </tr>\n",
       "    <tr>\n",
       "      <th>2</th>\n",
       "      <td>2</td>\n",
       "      <td>54763</td>\n",
       "      <td>2726</td>\n",
       "      <td>realizes a fullness that does not negate the s...</td>\n",
       "      <td>3</td>\n",
       "    </tr>\n",
       "    <tr>\n",
       "      <th>3</th>\n",
       "      <td>3</td>\n",
       "      <td>89708</td>\n",
       "      <td>4667</td>\n",
       "      <td>sealed</td>\n",
       "      <td>2</td>\n",
       "    </tr>\n",
       "    <tr>\n",
       "      <th>4</th>\n",
       "      <td>4</td>\n",
       "      <td>33494</td>\n",
       "      <td>1571</td>\n",
       "      <td>Go Where We Went 8 Movies Ago</td>\n",
       "      <td>3</td>\n",
       "    </tr>\n",
       "    <tr>\n",
       "      <th>5</th>\n",
       "      <td>5</td>\n",
       "      <td>146330</td>\n",
       "      <td>7957</td>\n",
       "      <td>the thin soup</td>\n",
       "      <td>2</td>\n",
       "    </tr>\n",
       "    <tr>\n",
       "      <th>6</th>\n",
       "      <td>6</td>\n",
       "      <td>62064</td>\n",
       "      <td>3138</td>\n",
       "      <td>keeps the energy humming</td>\n",
       "      <td>3</td>\n",
       "    </tr>\n",
       "    <tr>\n",
       "      <th>7</th>\n",
       "      <td>7</td>\n",
       "      <td>123644</td>\n",
       "      <td>6640</td>\n",
       "      <td>the most poorly staged and lit action in memory</td>\n",
       "      <td>0</td>\n",
       "    </tr>\n",
       "    <tr>\n",
       "      <th>8</th>\n",
       "      <td>8</td>\n",
       "      <td>89875</td>\n",
       "      <td>4677</td>\n",
       "      <td>a $ 40 million version</td>\n",
       "      <td>2</td>\n",
       "    </tr>\n",
       "    <tr>\n",
       "      <th>9</th>\n",
       "      <td>9</td>\n",
       "      <td>80766</td>\n",
       "      <td>4162</td>\n",
       "      <td>putting together familiar themes of family , f...</td>\n",
       "      <td>3</td>\n",
       "    </tr>\n",
       "  </tbody>\n",
       "</table>\n",
       "</div>"
      ],
      "text/plain": [
       "   Unnamed: 0  PhraseId  SentenceId  \\\n",
       "0           0       122           4   \n",
       "1           1     19366         851   \n",
       "2           2     54763        2726   \n",
       "3           3     89708        4667   \n",
       "4           4     33494        1571   \n",
       "5           5    146330        7957   \n",
       "6           6     62064        3138   \n",
       "7           7    123644        6640   \n",
       "8           8     89875        4677   \n",
       "9           9     80766        4162   \n",
       "\n",
       "                                              Phrase  Sentiment  \n",
       "0                                         positively          3  \n",
       "1  disguise the slack complacency of -LRB- Godard...          1  \n",
       "2  realizes a fullness that does not negate the s...          3  \n",
       "3                                             sealed          2  \n",
       "4                      Go Where We Went 8 Movies Ago          3  \n",
       "5                                      the thin soup          2  \n",
       "6                           keeps the energy humming          3  \n",
       "7    the most poorly staged and lit action in memory          0  \n",
       "8                             a $ 40 million version          2  \n",
       "9  putting together familiar themes of family , f...          3  "
      ]
     },
     "execution_count": 256,
     "metadata": {},
     "output_type": "execute_result"
    }
   ],
   "source": [
    "df.head(10)"
   ]
  },
  {
   "cell_type": "code",
   "execution_count": 257,
   "metadata": {},
   "outputs": [
    {
     "data": {
      "text/plain": [
       "Unnamed: 0    0\n",
       "PhraseId      0\n",
       "SentenceId    0\n",
       "Phrase        0\n",
       "Sentiment     0\n",
       "dtype: int64"
      ]
     },
     "execution_count": 257,
     "metadata": {},
     "output_type": "execute_result"
    }
   ],
   "source": [
    "#drop duplicate\n",
    "df = df.drop_duplicates()\n",
    "\n",
    "#check null data\n",
    "df.isnull().sum()"
   ]
  },
  {
   "cell_type": "code",
   "execution_count": 258,
   "metadata": {},
   "outputs": [],
   "source": [
    "df['word_count'] = df['Phrase'].str.split(' ').str.len()"
   ]
  },
  {
   "cell_type": "code",
   "execution_count": 259,
   "metadata": {},
   "outputs": [
    {
     "data": {
      "image/png": "[encoded data removed]",
      "text/plain": [
       "<Figure size 576x432 with 1 Axes>"
      ]
     },
     "metadata": {
      "needs_background": "light"
     },
     "output_type": "display_data"
    }
   ],
   "source": [
    "#check unique sentiment label\n",
    "df['Sentiment'].unique()\n",
    "\n",
    "#array([3, 1, 2, 0, 4], dtype=int64)\n",
    "#0 - most negative\n",
    "#1 - somewhat negative\n",
    "#2 - neutral\n",
    "#3 - somewhat postive\n",
    "#4 - most positive\n",
    "\n",
    "#check distribution of sentiment\n",
    "dist = df.groupby([\"Sentiment\"]).size()\n",
    "\n",
    "fig, ax = plt.subplots(figsize=(8,6))\n",
    "sns.barplot(dist.keys(), dist.values);"
   ]
  },
  {
   "cell_type": "code",
   "execution_count": 260,
   "metadata": {},
   "outputs": [
    {
     "data": {
      "text/plain": [
       "{0: 11.346849419379403,\n",
       " 1: 2.8986529202937317,\n",
       " 2: 1.0,\n",
       " 3: 2.405561385099685,\n",
       " 4: 8.706543967280163}"
      ]
     },
     "execution_count": 260,
     "metadata": {},
     "output_type": "execute_result"
    }
   ],
   "source": [
    "#use this to determine class for each sentiment\n",
    "#since neutral tone is the most occured one, use it as the nominator i.e. Wi = ni / n2\n",
    "\n",
    "weight = {0: dist[2]/dist[0],\n",
    "         1: dist[2]/dist[1],\n",
    "         2: dist[2]/dist[2],\n",
    "         3: dist[2]/dist[3],\n",
    "         4: dist[2]/dist[4]}\n",
    "weight"
   ]
  },
  {
   "cell_type": "code",
   "execution_count": 261,
   "metadata": {},
   "outputs": [],
   "source": [
    "#dictionary for stop words\n",
    "stop_words = stopwords.words('english')\n",
    "\n",
    "#dictionary of lematising words\n",
    "lemmatizer = WordNetLemmatizer()\n",
    "\n",
    "#dictionary of stemming words\n",
    "porter = PorterStemmer()"
   ]
  },
  {
   "cell_type": "code",
   "execution_count": 262,
   "metadata": {},
   "outputs": [
    {
     "data": {
      "text/plain": [
       "'thi is not bad at all'"
      ]
     },
     "execution_count": 262,
     "metadata": {},
     "output_type": "execute_result"
    }
   ],
   "source": [
    "#Preprocessing words\n",
    "def preprocessor(text):\n",
    "    \"\"\" Return a cleaned version of text\n",
    "    \"\"\"\n",
    "    # Remove HTML markup\n",
    "    text = BeautifulSoup(text, \"lxml\").text\n",
    "    \n",
    "    # Remove non-ASCII characters \n",
    "    text = unicodedata.normalize('NFKD', text).encode('ascii', 'ignore').decode('utf-8', 'ignore')\n",
    "    \n",
    "    #get only letters\n",
    "    text = re.sub(\"[^a-zA-Z]\",\" \",text)\n",
    "    \n",
    "    #lower case and split\n",
    "    text = text.lower().split()\n",
    "    \n",
    "    #remove stop words\n",
    "#     stops = set(stopwords.words(\"english\")) #faster to search through a set than a list\n",
    "#     text = [ w for w in text if not w in stop_words]  \n",
    "    \n",
    "    #lemmatising\n",
    "    text = [lemmatizer.lemmatize(w) for w in text]\n",
    "    \n",
    "    #steming words\n",
    "    text = [porter.stem(w) for w in text]        \n",
    "    \n",
    "    #join words\n",
    "    text = \" \".join(text)\n",
    "    return text\n",
    "\n",
    "preprocessor(\"Hi there, I am loving  this, like with 234a& lot of love. He loves it too@~@>: @A:>S\")\n",
    "preprocessor(\"This is not bad at all 079 ^$>>\")"
   ]
  },
  {
   "cell_type": "code",
   "execution_count": 263,
   "metadata": {},
   "outputs": [],
   "source": [
    "#determine X and y accordingly \n",
    "#X = df['Phrase']\n",
    "#y = df['Sentiment']\n",
    "\n",
    "X = df['Phrase']\n",
    "y = df['Sentiment']\n",
    "X_train, X_test, y_train, y_test = train_test_split(X, y, test_size=0.2, random_state=102)"
   ]
  },
  {
   "cell_type": "code",
   "execution_count": 264,
   "metadata": {},
   "outputs": [],
   "source": [
    "#vertorise data with features\n",
    "\n",
    "#tfidf reduce the emphasis of the frequency of occurence of the words\n",
    "#which is more suitable for a categories training, such as detecting what kinds of news the text is\n",
    "tfidf = TfidfVectorizer(input='content', \n",
    "                        encoding='utf-8', \n",
    "                        decode_error='strict', \n",
    "                        strip_accents=None, \n",
    "                        lowercase=True, \n",
    "                        preprocessor=preprocessor, \n",
    "                        tokenizer=word_tokenize, \n",
    "                        analyzer='word', \n",
    "                        stop_words=None, \n",
    "                        token_pattern='(?u)\\b\\w\\w+\\b', \n",
    "                        ngram_range=(1, 2), \n",
    "                        max_df=1.0, \n",
    "                        min_df=1, \n",
    "                        max_features=None, \n",
    "                        vocabulary=None, \n",
    "                        binary=True, \n",
    "                        dtype=np.float64, \n",
    "                        norm='l2', \n",
    "                        use_idf=True, \n",
    "                        smooth_idf=True, \n",
    "                        sublinear_tf=False)\n",
    "\n",
    "#countvectorizer emphasises on the frequency of occurence of the words\n",
    "#which is more suitable for a sentimental training\n",
    "count = CountVectorizer(input='content', \n",
    "                                   encoding='utf-8', \n",
    "                                   decode_error='strict', \n",
    "                                   strip_accents=None, \n",
    "                                   lowercase=True, \n",
    "                                   preprocessor=preprocessor, \n",
    "                                   tokenizer=word_tokenize, \n",
    "                                   stop_words=None, \n",
    "                                   token_pattern='(?u)\\b\\w\\w+\\b', \n",
    "                                   ngram_range=(1, 2), \n",
    "                                   analyzer='word', \n",
    "                                   max_df=1.0, \n",
    "                                   min_df=1, \n",
    "                                   max_features=None, \n",
    "                                   vocabulary=None, \n",
    "                                   binary=True, \n",
    "                                   dtype=np.float64)\n",
    "\n",
    "logistic_regression = LogisticRegression(penalty='l2', \n",
    "                                         dual=False, \n",
    "                                         tol=0.000001, \n",
    "                                         C=1.0, \n",
    "                                         fit_intercept=True, \n",
    "                                         intercept_scaling=1, \n",
    "                                         class_weight=None,#weight, \n",
    "                                         random_state=102, \n",
    "                                         solver='lbfgs', \n",
    "                                         max_iter=1000000, \n",
    "                                         multi_class='multinomial', \n",
    "                                         verbose=0, \n",
    "                                         warm_start=True, \n",
    "                                         n_jobs=None, \n",
    "                                         l1_ratio=None)\n",
    "\n",
    "# A pipeline is what chains several steps together, once the initial exploration is done. \n",
    "# For example, some codes are meant to transform features — normalise numericals, or turn text into vectors, \n",
    "# or fill up missing data, they are transformers; other codes are meant to predict variables by fitting an algorithm,\n",
    "# they are estimators. Pipeline chains all these together which can then be applied to training data\n",
    "clf = Pipeline([('vect', count),\n",
    "                ('clf', LogisticRegression())])"
   ]
  },
  {
   "cell_type": "code",
   "execution_count": 265,
   "metadata": {},
   "outputs": [
    {
     "name": "stderr",
     "output_type": "stream",
     "text": [
      "C:\\Users\\chila\\miniconda3\\envs\\cs_ftmle\\lib\\site-packages\\bs4\\__init__.py:333: MarkupResemblesLocatorWarning: \"...\" looks like a filename, not markup. You should probably open this file and pass the filehandle into Beautiful Soup.\n",
      "  MarkupResemblesLocatorWarning\n",
      "C:\\Users\\chila\\miniconda3\\envs\\cs_ftmle\\lib\\site-packages\\sklearn\\linear_model\\_logistic.py:764: ConvergenceWarning: lbfgs failed to converge (status=1):\n",
      "STOP: TOTAL NO. of ITERATIONS REACHED LIMIT.\n",
      "\n",
      "Increase the number of iterations (max_iter) or scale the data as shown in:\n",
      "    https://scikit-learn.org/stable/modules/preprocessing.html\n",
      "Please also refer to the documentation for alternative solver options:\n",
      "    https://scikit-learn.org/stable/modules/linear_model.html#logistic-regression\n",
      "  extra_warning_msg=_LOGISTIC_SOLVER_CONVERGENCE_MSG)\n"
     ]
    },
    {
     "data": {
      "text/plain": [
       "Pipeline(steps=[('vect',\n",
       "                 CountVectorizer(binary=True, dtype=<class 'numpy.float64'>,\n",
       "                                 ngram_range=(1, 2),\n",
       "                                 preprocessor=<function preprocessor at 0x000001E926338048>,\n",
       "                                 token_pattern='(?u)\\x08\\\\w\\\\w+\\x08',\n",
       "                                 tokenizer=<function word_tokenize at 0x000001E9602DD8B8>)),\n",
       "                ('clf', LogisticRegression())])"
      ]
     },
     "execution_count": 265,
     "metadata": {},
     "output_type": "execute_result"
    }
   ],
   "source": [
    "clf.fit(X_train, y_train)"
   ]
  },
  {
   "cell_type": "code",
   "execution_count": 267,
   "metadata": {},
   "outputs": [],
   "source": [
    "#Test prediction\n",
    "predictions = clf.predict(X_test)"
   ]
  },
  {
   "cell_type": "code",
   "execution_count": 268,
   "metadata": {},
   "outputs": [
    {
     "name": "stdout",
     "output_type": "stream",
     "text": [
      "accuracy: 0.66000256311675\n",
      "confusion matrix:\n",
      " [[  342   477   177    12     1]\n",
      " [  341  1788  1844   100    13]\n",
      " [   65   792 10187   879    42]\n",
      " [    8    81  1937  2592   364]\n",
      " [    1     6   121   698   541]]\n",
      "classification report:\n",
      "               precision    recall  f1-score   support\n",
      "\n",
      "           0       0.45      0.34      0.39      1009\n",
      "           1       0.57      0.44      0.49      4086\n",
      "           2       0.71      0.85      0.78     11965\n",
      "           3       0.61      0.52      0.56      4982\n",
      "           4       0.56      0.40      0.46      1367\n",
      "\n",
      "    accuracy                           0.66     23409\n",
      "   macro avg       0.58      0.51      0.54     23409\n",
      "weighted avg       0.65      0.66      0.65     23409\n",
      "\n"
     ]
    }
   ],
   "source": [
    "#Evaluate\n",
    "print('accuracy:',accuracy_score(y_test,predictions))\n",
    "print('confusion matrix:\\n',confusion_matrix(y_test,predictions))\n",
    "print('classification report:\\n',classification_report(y_test,predictions))\n",
    "\n",
    "# WITHOUT STOP WORDS, TfidfVectorizer with ngrams = 2\n",
    "# accuracy: 0.6451364859669358\n",
    "# confusion matrix:\n",
    "#  [[  175   524   291    19     0]\n",
    "#  [  126  1567  2295    91     7]\n",
    "#  [   22   612 10638   667    26]\n",
    "#  [    2    70  2359  2387   164]\n",
    "#  [    0     9   218   805   335]]\n",
    "# classification report:\n",
    "#                precision    recall  f1-score   support\n",
    "\n",
    "#            0       0.54      0.17      0.26      1009\n",
    "#            1       0.56      0.38      0.46      4086\n",
    "#            2       0.67      0.89      0.77     11965\n",
    "#            3       0.60      0.48      0.53      4982\n",
    "#            4       0.63      0.25      0.35      1367\n",
    "\n",
    "#     accuracy                           0.65     23409\n",
    "#    macro avg       0.60      0.43      0.47     23409\n",
    "# weighted avg       0.63      0.65      0.62     23409"
   ]
  },
  {
   "cell_type": "code",
   "execution_count": 269,
   "metadata": {},
   "outputs": [
    {
     "data": {
      "text/plain": [
       "Text(0.5, 15.0, 'Predicted label')"
      ]
     },
     "execution_count": 269,
     "metadata": {},
     "output_type": "execute_result"
    },
    {
     "data": {
      "image/png": "[encoded data removed]",
      "text/plain": [
       "<Figure size 432x288 with 2 Axes>"
      ]
     },
     "metadata": {
      "needs_background": "light"
     },
     "output_type": "display_data"
    }
   ],
   "source": [
    "cm = confusion_matrix(y_test, predictions)\n",
    "# view with a heatmap\n",
    "sns.heatmap(cm, annot=True,fmt='g', cmap='Blues', xticklabels=['0', '1','2','3','4'], yticklabels=['0', '1','2','3','4'])\n",
    "plt.ylabel('True label')\n",
    "plt.xlabel('Predicted label')"
   ]
  },
  {
   "cell_type": "code",
   "execution_count": 271,
   "metadata": {},
   "outputs": [],
   "source": [
    "#dump into an pickle file to read and run later\n",
    "pickle.dump(clf, open('review_logistic_regression_count_ngram12.pkl', 'wb'))"
   ]
  },
  {
   "cell_type": "code",
   "execution_count": 127,
   "metadata": {},
   "outputs": [],
   "source": [
    "#read pickle file model\n",
    "with open('review_logistic_regression.pkl', 'rb') as model:\n",
    "    reload_model = pickle.load(model)\n",
    "    "
   ]
  },
  {
   "cell_type": "code",
   "execution_count": 128,
   "metadata": {},
   "outputs": [],
   "source": [
    "#read test.csv file and make prediction\n",
    "df_test_unlabel = pd.read_csv('test.csv')\n",
    "X_test_unlabel = df_test_unlabel['Phrase']\n",
    "\n",
    "preds = reload_model.predict(X_test_unlabel)\n"
   ]
  },
  {
   "cell_type": "code",
   "execution_count": 102,
   "metadata": {},
   "outputs": [],
   "source": [
    "#save to submission.csv file\n",
    "df_test_unlabel['Sentiment'] = preds\n",
    "df_test_unlabel.to_csv('./submission.csv', index=False)"
   ]
  },
  {
   "cell_type": "code",
   "execution_count": null,
   "metadata": {},
   "outputs": [],
   "source": []
  }
 ],
 "metadata": {
  "kernelspec": {
   "display_name": "Python 3",
   "language": "python",
   "name": "python3"
  },
  "language_info": {
   "codemirror_mode": {
    "name": "ipython",
    "version": 3
   },
   "file_extension": ".py",
   "mimetype": "text/x-python",
   "name": "python",
   "nbconvert_exporter": "python",
   "pygments_lexer": "ipython3",
   "version": "3.7.8"
  }
 },
 "nbformat": 4,
 "nbformat_minor": 4
}
