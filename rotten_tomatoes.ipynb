{
 "cells": [
  {
   "cell_type": "markdown",
   "metadata": {},
   "source": [
    "# Rotten Tomatoes movie review - Weekly Project"
   ]
  },
  {
   "cell_type": "markdown",
   "metadata": {},
   "source": [
    "https://www.kaggle.com/c/sentiment-analysis-on-movie-reviews"
   ]
  },
  {
   "cell_type": "markdown",
   "metadata": {},
   "source": [
    "The Rotten Tomatoes movie review dataset is a corpus of movie reviews used for sentiment analysis\n",
    "\n",
    "This competition presents a chance to benchmark your sentiment-analysis ideas on the Rotten Tomatoes dataset. You are asked to label phrases on a scale of five values: \n",
    "- negative\n",
    "- somewhat negative\n",
    "- neutral\n",
    "- somewhat positive\n",
    "- positive. \n",
    "\n",
    "Obstacles like sentence negation, sarcasm, terseness, language ambiguity, and many others make this task very challenging."
   ]
  },
  {
   "cell_type": "code",
   "execution_count": 160,
   "metadata": {},
   "outputs": [],
   "source": [
    "import pickle\n",
    "import os\n",
    "import numpy as np\n",
    "import pandas as pd\n",
    "import matplotlib.pyplot as plt\n",
    "import seaborn as sns\n",
    "import re \n",
    "import nltk\n",
    "import unicodedata\n",
    "# nltk.download('stopwords')\n",
    "# nltk.download('wordnet')"
   ]
  },
  {
   "cell_type": "code",
   "execution_count": 159,
   "metadata": {},
   "outputs": [],
   "source": [
    "from nltk.corpus import stopwords\n",
    "from nltk.stem import PorterStemmer\n",
    "from nltk.stem.wordnet import WordNetLemmatizer\n",
    "\n",
    "from sklearn.model_selection import train_test_split\n",
    "from sklearn.pipeline import Pipeline\n",
    "from sklearn.linear_model import LogisticRegression\n",
    "from sklearn.feature_extraction.text import TfidfVectorizer\n",
    "from sklearn.metrics import accuracy_score, confusion_matrix, classification_report"
   ]
  },
  {
   "cell_type": "code",
   "execution_count": 133,
   "metadata": {},
   "outputs": [],
   "source": [
    "df = pd.read_csv('train.csv')"
   ]
  },
  {
   "cell_type": "code",
   "execution_count": 134,
   "metadata": {},
   "outputs": [
    {
     "data": {
      "text/html": [
       "<div>\n",
       "<style scoped>\n",
       "    .dataframe tbody tr th:only-of-type {\n",
       "        vertical-align: middle;\n",
       "    }\n",
       "\n",
       "    .dataframe tbody tr th {\n",
       "        vertical-align: top;\n",
       "    }\n",
       "\n",
       "    .dataframe thead th {\n",
       "        text-align: right;\n",
       "    }\n",
       "</style>\n",
       "<table border=\"1\" class=\"dataframe\">\n",
       "  <thead>\n",
       "    <tr style=\"text-align: right;\">\n",
       "      <th></th>\n",
       "      <th>Unnamed: 0</th>\n",
       "      <th>PhraseId</th>\n",
       "      <th>SentenceId</th>\n",
       "      <th>Phrase</th>\n",
       "      <th>Sentiment</th>\n",
       "    </tr>\n",
       "  </thead>\n",
       "  <tbody>\n",
       "    <tr>\n",
       "      <th>0</th>\n",
       "      <td>0</td>\n",
       "      <td>122</td>\n",
       "      <td>4</td>\n",
       "      <td>positively</td>\n",
       "      <td>3</td>\n",
       "    </tr>\n",
       "    <tr>\n",
       "      <th>1</th>\n",
       "      <td>1</td>\n",
       "      <td>19366</td>\n",
       "      <td>851</td>\n",
       "      <td>disguise the slack complacency of -LRB- Godard...</td>\n",
       "      <td>1</td>\n",
       "    </tr>\n",
       "    <tr>\n",
       "      <th>2</th>\n",
       "      <td>2</td>\n",
       "      <td>54763</td>\n",
       "      <td>2726</td>\n",
       "      <td>realizes a fullness that does not negate the s...</td>\n",
       "      <td>3</td>\n",
       "    </tr>\n",
       "    <tr>\n",
       "      <th>3</th>\n",
       "      <td>3</td>\n",
       "      <td>89708</td>\n",
       "      <td>4667</td>\n",
       "      <td>sealed</td>\n",
       "      <td>2</td>\n",
       "    </tr>\n",
       "    <tr>\n",
       "      <th>4</th>\n",
       "      <td>4</td>\n",
       "      <td>33494</td>\n",
       "      <td>1571</td>\n",
       "      <td>Go Where We Went 8 Movies Ago</td>\n",
       "      <td>3</td>\n",
       "    </tr>\n",
       "    <tr>\n",
       "      <th>5</th>\n",
       "      <td>5</td>\n",
       "      <td>146330</td>\n",
       "      <td>7957</td>\n",
       "      <td>the thin soup</td>\n",
       "      <td>2</td>\n",
       "    </tr>\n",
       "    <tr>\n",
       "      <th>6</th>\n",
       "      <td>6</td>\n",
       "      <td>62064</td>\n",
       "      <td>3138</td>\n",
       "      <td>keeps the energy humming</td>\n",
       "      <td>3</td>\n",
       "    </tr>\n",
       "    <tr>\n",
       "      <th>7</th>\n",
       "      <td>7</td>\n",
       "      <td>123644</td>\n",
       "      <td>6640</td>\n",
       "      <td>the most poorly staged and lit action in memory</td>\n",
       "      <td>0</td>\n",
       "    </tr>\n",
       "    <tr>\n",
       "      <th>8</th>\n",
       "      <td>8</td>\n",
       "      <td>89875</td>\n",
       "      <td>4677</td>\n",
       "      <td>a $ 40 million version</td>\n",
       "      <td>2</td>\n",
       "    </tr>\n",
       "    <tr>\n",
       "      <th>9</th>\n",
       "      <td>9</td>\n",
       "      <td>80766</td>\n",
       "      <td>4162</td>\n",
       "      <td>putting together familiar themes of family , f...</td>\n",
       "      <td>3</td>\n",
       "    </tr>\n",
       "  </tbody>\n",
       "</table>\n",
       "</div>"
      ],
      "text/plain": [
       "   Unnamed: 0  PhraseId  SentenceId  \\\n",
       "0           0       122           4   \n",
       "1           1     19366         851   \n",
       "2           2     54763        2726   \n",
       "3           3     89708        4667   \n",
       "4           4     33494        1571   \n",
       "5           5    146330        7957   \n",
       "6           6     62064        3138   \n",
       "7           7    123644        6640   \n",
       "8           8     89875        4677   \n",
       "9           9     80766        4162   \n",
       "\n",
       "                                              Phrase  Sentiment  \n",
       "0                                         positively          3  \n",
       "1  disguise the slack complacency of -LRB- Godard...          1  \n",
       "2  realizes a fullness that does not negate the s...          3  \n",
       "3                                             sealed          2  \n",
       "4                      Go Where We Went 8 Movies Ago          3  \n",
       "5                                      the thin soup          2  \n",
       "6                           keeps the energy humming          3  \n",
       "7    the most poorly staged and lit action in memory          0  \n",
       "8                             a $ 40 million version          2  \n",
       "9  putting together familiar themes of family , f...          3  "
      ]
     },
     "execution_count": 134,
     "metadata": {},
     "output_type": "execute_result"
    }
   ],
   "source": [
    "df.head(10)"
   ]
  },
  {
   "cell_type": "code",
   "execution_count": 135,
   "metadata": {},
   "outputs": [
    {
     "data": {
      "text/plain": [
       "Unnamed: 0    0\n",
       "PhraseId      0\n",
       "SentenceId    0\n",
       "Phrase        0\n",
       "Sentiment     0\n",
       "dtype: int64"
      ]
     },
     "execution_count": 135,
     "metadata": {},
     "output_type": "execute_result"
    }
   ],
   "source": [
    "#drop duplicate\n",
    "df = df.drop_duplicates()\n",
    "\n",
    "#check null data\n",
    "df.isnull().sum()"
   ]
  },
  {
   "cell_type": "code",
   "execution_count": 136,
   "metadata": {},
   "outputs": [
    {
     "data": {
      "image/png": "[encoded data removed]",
      "text/plain": [
       "<Figure size 576x432 with 1 Axes>"
      ]
     },
     "metadata": {
      "needs_background": "light"
     },
     "output_type": "display_data"
    }
   ],
   "source": [
    "#check unique sentiment label\n",
    "df['Sentiment'].unique()\n",
    "\n",
    "#array([3, 1, 2, 0, 4], dtype=int64)\n",
    "#0 - most negative\n",
    "#1 - somewhat negative\n",
    "#2 - neutral\n",
    "#3 - somewhat postive\n",
    "#4 - most positive\n",
    "\n",
    "#check distribution of sentiment\n",
    "dist = df_train.groupby([\"Sentiment\"]).size()\n",
    "\n",
    "fig, ax = plt.subplots(figsize=(8,6))\n",
    "sns.barplot(dist.keys(), dist.values);"
   ]
  },
  {
   "cell_type": "code",
   "execution_count": 169,
   "metadata": {},
   "outputs": [
    {
     "data": {
      "text/plain": [
       "{0: 11.346849419379403,\n",
       " 1: 2.8986529202937317,\n",
       " 2: 1.0,\n",
       " 3: 2.405561385099685,\n",
       " 4: 8.706543967280163}"
      ]
     },
     "execution_count": 169,
     "metadata": {},
     "output_type": "execute_result"
    }
   ],
   "source": [
    "#use this to determine class for each sentiment\n",
    "#since neutral tone is the most occured one, use it as the nominator i.e. Wi = ni / n2\n",
    "\n",
    "weight = {0: dist[2]/dist[0],\n",
    "         1: dist[2]/dist[1],\n",
    "         2: dist[2]/dist[2],\n",
    "         3: dist[2]/dist[3],\n",
    "         4: dist[2]/dist[4]}\n",
    "weight"
   ]
  },
  {
   "cell_type": "code",
   "execution_count": 141,
   "metadata": {},
   "outputs": [],
   "source": [
    "#dictionary for stop words\n",
    "stop_words = stopwords.words('english')\n",
    "\n",
    "#dictionary of lematising words\n",
    "lemmatizer = WordNetLemmatizer()\n",
    "\n",
    "#dictionary of stemming words\n",
    "porter = PorterStemmer()"
   ]
  },
  {
   "cell_type": "code",
   "execution_count": 142,
   "metadata": {},
   "outputs": [
    {
     "data": {
      "text/plain": [
       "'hi like love love lot'"
      ]
     },
     "execution_count": 142,
     "metadata": {},
     "output_type": "execute_result"
    }
   ],
   "source": [
    "#Preprocessing words\n",
    "def preprocessor(text):\n",
    "    \"\"\" Return a cleaned version of text\n",
    "    \"\"\"\n",
    "    # Remove HTML markup\n",
    "    text = re.sub('<[^>]*>', '', text)\n",
    "    \n",
    "    # Remove non-ASCII characters \n",
    "    text = unicodedata.normalize('NFKD', text).encode('ascii', 'ignore').decode('utf-8', 'ignore')\n",
    "    \n",
    "    #get only letters\n",
    "    text = re.sub(\"[^a-zA-Z]\",\" \",text)\n",
    "    \n",
    "    #lower case and split\n",
    "    text = text.lower().split()\n",
    "    \n",
    "    #lemmatising\n",
    "    text = set([lemmatizer.lemmatize(str(x)) for x in text]) #lemmatizing\n",
    "\n",
    "    #remove stop words\n",
    "    stops = set(stopwords.words(\"english\")) #faster to search through a set than a list\n",
    "    \n",
    "    text = [w for w in text if not w in stops]\n",
    "    \n",
    "    #steming words\n",
    "    text = [porter.stem(w) for w in text]\n",
    "    \n",
    "    #join words\n",
    "    text = \" \".join(text)\n",
    "    return text\n",
    "\n",
    "preprocessor(\"Hi there, I am loving this, like with 234a& lot of love. He loves it too@~@>: @A:>S\")"
   ]
  },
  {
   "cell_type": "code",
   "execution_count": 143,
   "metadata": {},
   "outputs": [],
   "source": [
    "# Split a text into list of words\n",
    "def tokenizer(text):\n",
    "    return text.split()"
   ]
  },
  {
   "cell_type": "code",
   "execution_count": 144,
   "metadata": {},
   "outputs": [],
   "source": [
    "#determine X and y accordingly \n",
    "#X = df['Phrase']\n",
    "#y = df['Sentiment']\n",
    "\n",
    "X = df['Phrase']\n",
    "y = df['Sentiment']\n",
    "X_train, X_test, y_train, y_test = train_test_split(X, y, test_size=0.2, random_state=102)"
   ]
  },
  {
   "cell_type": "code",
   "execution_count": 191,
   "metadata": {},
   "outputs": [],
   "source": [
    "#vertorise data with features\n",
    "tfidf = TfidfVectorizer(input='content',\n",
    "                        encoding='utf-8', \n",
    "                        decode_error='strict',\n",
    "                        strip_accents = None,\n",
    "                        lowercase = True,\n",
    "                        preprocessor=preprocessor,\n",
    "                        tokenizer=tokenizer,\n",
    "                        analyzer = 'word',\n",
    "                        stop_words=None,\n",
    "                        dtype=np.float64,\n",
    "                        binary = False)\n",
    "\n",
    "logistic_regression = LogisticRegression(penalty='l2', \n",
    "                                         dual=False, \n",
    "                                         tol=0.000001, \n",
    "                                         C=1.0, \n",
    "                                         fit_intercept=True, \n",
    "                                         intercept_scaling=1, \n",
    "                                         class_weight=None,#'balanced',#weight, \n",
    "                                         random_state=102, \n",
    "                                         solver='newton-cg', \n",
    "                                         max_iter=100000, \n",
    "                                         multi_class='multinomial', \n",
    "                                         verbose=0, \n",
    "                                         warm_start=True, \n",
    "                                         n_jobs=None, \n",
    "                                         l1_ratio=None)\n",
    "\n",
    "# A pipeline is what chains several steps together, once the initial exploration is done. \n",
    "# For example, some codes are meant to transform features — normalise numericals, or turn text into vectors, \n",
    "# or fill up missing data, they are transformers; other codes are meant to predict variables by fitting an algorithm,\n",
    "# they are estimators. Pipeline chains all these together which can then be applied to training data\n",
    "clf = Pipeline([('vect', tfidf),\n",
    "                ('clf', logistic_regression)])"
   ]
  },
  {
   "cell_type": "code",
   "execution_count": 192,
   "metadata": {},
   "outputs": [
    {
     "data": {
      "text/plain": [
       "Pipeline(steps=[('vect',\n",
       "                 TfidfVectorizer(preprocessor=<function preprocessor at 0x0000013F742D04C8>,\n",
       "                                 tokenizer=<function tokenizer at 0x0000013F742C5048>)),\n",
       "                ('clf',\n",
       "                 LogisticRegression(max_iter=100000, multi_class='multinomial',\n",
       "                                    random_state=102, solver='newton-cg',\n",
       "                                    tol=1e-06, warm_start=True))])"
      ]
     },
     "execution_count": 192,
     "metadata": {},
     "output_type": "execute_result"
    }
   ],
   "source": [
    "clf.fit(X_train, y_train)"
   ]
  },
  {
   "cell_type": "code",
   "execution_count": 193,
   "metadata": {},
   "outputs": [],
   "source": [
    "#Test prediction\n",
    "predictions = clf.predict(X_test)"
   ]
  },
  {
   "cell_type": "code",
   "execution_count": 194,
   "metadata": {},
   "outputs": [
    {
     "name": "stdout",
     "output_type": "stream",
     "text": [
      "accuracy: 0.6268529198171643\n",
      "confusion matrix:\n",
      " [[  167   496   302    42     2]\n",
      " [  112  1435  2322   211     6]\n",
      " [   26   642 10444   823    30]\n",
      " [    5   123  2378  2314   162]\n",
      " [    0    16   266   771   314]]\n",
      "classification report:\n",
      "               precision    recall  f1-score   support\n",
      "\n",
      "           0       0.54      0.17      0.25      1009\n",
      "           1       0.53      0.35      0.42      4086\n",
      "           2       0.66      0.87      0.75     11965\n",
      "           3       0.56      0.46      0.51      4982\n",
      "           4       0.61      0.23      0.33      1367\n",
      "\n",
      "    accuracy                           0.63     23409\n",
      "   macro avg       0.58      0.42      0.45     23409\n",
      "weighted avg       0.61      0.63      0.60     23409\n",
      "\n"
     ]
    }
   ],
   "source": [
    "#Evaluate\n",
    "print('accuracy:',accuracy_score(y_test,predictions))\n",
    "print('confusion matrix:\\n',confusion_matrix(y_test,predictions))\n",
    "print('classification report:\\n',classification_report(y_test,predictions))\n",
    "\n",
    "\n",
    "# accuracy: 0.6268529198171643\n",
    "# confusion matrix:\n",
    "#  [[  166   497   302    42     2]\n",
    "#  [  111  1436  2322   211     6]\n",
    "#  [   26   642 10444   823    30]\n",
    "#  [    5   123  2378  2314   162]\n",
    "#  [    0    16   266   771   314]]\n",
    "# classification report:\n",
    "#                precision    recall  f1-score   support\n",
    "\n",
    "#            0       0.54      0.16      0.25      1009\n",
    "#            1       0.53      0.35      0.42      4086\n",
    "#            2       0.66      0.87      0.75     11965\n",
    "#            3       0.56      0.46      0.51      4982\n",
    "#            4       0.61      0.23      0.33      1367\n",
    "\n",
    "#     accuracy                           0.63     23409\n",
    "#    macro avg       0.58      0.42      0.45     23409\n",
    "# weighted avg       0.61      0.63      0.60     23409"
   ]
  },
  {
   "cell_type": "code",
   "execution_count": 189,
   "metadata": {},
   "outputs": [
    {
     "data": {
      "text/plain": [
       "Text(0.5, 15.0, 'Predicted label')"
      ]
     },
     "execution_count": 189,
     "metadata": {},
     "output_type": "execute_result"
    },
    {
     "data": {
      "image/png": "[encoded data removed]",
      "text/plain": [
       "<Figure size 432x288 with 2 Axes>"
      ]
     },
     "metadata": {
      "needs_background": "light"
     },
     "output_type": "display_data"
    }
   ],
   "source": [
    "cm = confusion_matrix(y_test, predictions)\n",
    "# view with a heatmap\n",
    "sns.heatmap(cm, annot=True,fmt='g', cmap='Blues', xticklabels=['0', '1','2','3','4'], yticklabels=['0', '1','2','3','4'])\n",
    "plt.ylabel('True label')\n",
    "plt.xlabel('Predicted label')"
   ]
  },
  {
   "cell_type": "code",
   "execution_count": 153,
   "metadata": {},
   "outputs": [],
   "source": [
    "#dump into an pickle file to read and run later\n",
    "pickle.dump(clf, open('review_logistic_regression.pkl', 'wb'))"
   ]
  },
  {
   "cell_type": "code",
   "execution_count": 158,
   "metadata": {},
   "outputs": [
    {
     "name": "stdout",
     "output_type": "stream",
     "text": [
      "...That is terrific You used to be good at this --> 0, 1, 2, 3, 4 = [0.00212848 0.01716707 0.03908885 0.45514091 0.48647469]\n"
     ]
    }
   ],
   "source": [
    "with open('review_logistic_regression.pkl', 'rb') as model:\n",
    "    reload_model = pickle.load(model)\n",
    "    \n",
    "tweets = [\n",
    "    \"...\"\n",
    "    \"That is terrific\"\n",
    "    \" You used to be good at this\"\n",
    "]\n",
    "    \n",
    "preds = reload_model.predict_proba(tweets)\n",
    "\n",
    "for i in range(len(tweets)):\n",
    "    print(f'{tweets[i]} --> 0, 1, 2, 3, 4 = {preds[i]}')\n",
    "\n"
   ]
  },
  {
   "cell_type": "code",
   "execution_count": null,
   "metadata": {},
   "outputs": [],
   "source": []
  }
 ],
 "metadata": {
  "kernelspec": {
   "display_name": "Python 3",
   "language": "python",
   "name": "python3"
  },
  "language_info": {
   "codemirror_mode": {
    "name": "ipython",
    "version": 3
   },
   "file_extension": ".py",
   "mimetype": "text/x-python",
   "name": "python",
   "nbconvert_exporter": "python",
   "pygments_lexer": "ipython3",
   "version": "3.7.8"
  }
 },
 "nbformat": 4,
 "nbformat_minor": 4
}
